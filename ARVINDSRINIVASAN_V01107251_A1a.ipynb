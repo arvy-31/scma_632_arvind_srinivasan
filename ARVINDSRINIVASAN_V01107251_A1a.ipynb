{
 "cells": [
  {
   "cell_type": "code",
   "execution_count": 1,
   "id": "76c161b2",
   "metadata": {},
   "outputs": [],
   "source": [
    "import os, pandas as pd, numpy as np"
   ]
  },
  {
   "cell_type": "code",
   "execution_count": 2,
   "id": "085f0dd1",
   "metadata": {},
   "outputs": [],
   "source": [
    "os.chdir(\"D:\\SCMA632\\Assignment\")"
   ]
  },
  {
   "cell_type": "code",
   "execution_count": 3,
   "id": "6ec50849",
   "metadata": {},
   "outputs": [],
   "source": [
    "df=pd.read_csv(\"NSSO68.csv\",encoding=\"Latin-1\", low_memory=False)"
   ]
  },
  {
   "cell_type": "code",
   "execution_count": 4,
   "id": "796a2227",
   "metadata": {},
   "outputs": [
    {
     "data": {
      "text/html": [
       "<div>\n",
       "<style scoped>\n",
       "    .dataframe tbody tr th:only-of-type {\n",
       "        vertical-align: middle;\n",
       "    }\n",
       "\n",
       "    .dataframe tbody tr th {\n",
       "        vertical-align: top;\n",
       "    }\n",
       "\n",
       "    .dataframe thead th {\n",
       "        text-align: right;\n",
       "    }\n",
       "</style>\n",
       "<table border=\"1\" class=\"dataframe\">\n",
       "  <thead>\n",
       "    <tr style=\"text-align: right;\">\n",
       "      <th></th>\n",
       "      <th>slno</th>\n",
       "      <th>grp</th>\n",
       "      <th>Round_Centre</th>\n",
       "      <th>FSU_number</th>\n",
       "      <th>Round</th>\n",
       "      <th>Schedule_Number</th>\n",
       "      <th>Sample</th>\n",
       "      <th>Sector</th>\n",
       "      <th>state</th>\n",
       "      <th>State_Region</th>\n",
       "      <th>...</th>\n",
       "      <th>pickle_v</th>\n",
       "      <th>sauce_jam_v</th>\n",
       "      <th>Othrprocessed_v</th>\n",
       "      <th>Beveragestotal_v</th>\n",
       "      <th>foodtotal_v</th>\n",
       "      <th>foodtotal_q</th>\n",
       "      <th>state_1</th>\n",
       "      <th>Region</th>\n",
       "      <th>fruits_df_tt_v</th>\n",
       "      <th>fv_tot</th>\n",
       "    </tr>\n",
       "  </thead>\n",
       "  <tbody>\n",
       "    <tr>\n",
       "      <th>0</th>\n",
       "      <td>1</td>\n",
       "      <td>4.10E+31</td>\n",
       "      <td>1</td>\n",
       "      <td>41000</td>\n",
       "      <td>68</td>\n",
       "      <td>10</td>\n",
       "      <td>1</td>\n",
       "      <td>2</td>\n",
       "      <td>24</td>\n",
       "      <td>242</td>\n",
       "      <td>...</td>\n",
       "      <td>0.0</td>\n",
       "      <td>0.0</td>\n",
       "      <td>0.0</td>\n",
       "      <td>0.000000</td>\n",
       "      <td>1141.492400</td>\n",
       "      <td>30.942394</td>\n",
       "      <td>GUJ</td>\n",
       "      <td>2</td>\n",
       "      <td>12.000000</td>\n",
       "      <td>154.18</td>\n",
       "    </tr>\n",
       "    <tr>\n",
       "      <th>1</th>\n",
       "      <td>2</td>\n",
       "      <td>4.10E+31</td>\n",
       "      <td>1</td>\n",
       "      <td>41000</td>\n",
       "      <td>68</td>\n",
       "      <td>10</td>\n",
       "      <td>1</td>\n",
       "      <td>2</td>\n",
       "      <td>24</td>\n",
       "      <td>242</td>\n",
       "      <td>...</td>\n",
       "      <td>0.0</td>\n",
       "      <td>0.0</td>\n",
       "      <td>0.0</td>\n",
       "      <td>17.500000</td>\n",
       "      <td>1244.553500</td>\n",
       "      <td>29.286153</td>\n",
       "      <td>GUJ</td>\n",
       "      <td>2</td>\n",
       "      <td>333.000000</td>\n",
       "      <td>484.95</td>\n",
       "    </tr>\n",
       "    <tr>\n",
       "      <th>2</th>\n",
       "      <td>3</td>\n",
       "      <td>4.10E+31</td>\n",
       "      <td>1</td>\n",
       "      <td>41000</td>\n",
       "      <td>68</td>\n",
       "      <td>10</td>\n",
       "      <td>1</td>\n",
       "      <td>2</td>\n",
       "      <td>24</td>\n",
       "      <td>242</td>\n",
       "      <td>...</td>\n",
       "      <td>0.0</td>\n",
       "      <td>0.0</td>\n",
       "      <td>0.0</td>\n",
       "      <td>0.000000</td>\n",
       "      <td>1050.315400</td>\n",
       "      <td>31.527046</td>\n",
       "      <td>GUJ</td>\n",
       "      <td>2</td>\n",
       "      <td>35.000000</td>\n",
       "      <td>214.84</td>\n",
       "    </tr>\n",
       "    <tr>\n",
       "      <th>3</th>\n",
       "      <td>4</td>\n",
       "      <td>4.10E+31</td>\n",
       "      <td>1</td>\n",
       "      <td>41000</td>\n",
       "      <td>68</td>\n",
       "      <td>10</td>\n",
       "      <td>1</td>\n",
       "      <td>2</td>\n",
       "      <td>24</td>\n",
       "      <td>242</td>\n",
       "      <td>...</td>\n",
       "      <td>0.0</td>\n",
       "      <td>0.0</td>\n",
       "      <td>0.0</td>\n",
       "      <td>33.333333</td>\n",
       "      <td>1142.591667</td>\n",
       "      <td>27.834607</td>\n",
       "      <td>GUJ</td>\n",
       "      <td>2</td>\n",
       "      <td>168.333333</td>\n",
       "      <td>302.30</td>\n",
       "    </tr>\n",
       "    <tr>\n",
       "      <th>4</th>\n",
       "      <td>5</td>\n",
       "      <td>4.10E+31</td>\n",
       "      <td>1</td>\n",
       "      <td>41000</td>\n",
       "      <td>68</td>\n",
       "      <td>10</td>\n",
       "      <td>1</td>\n",
       "      <td>2</td>\n",
       "      <td>24</td>\n",
       "      <td>242</td>\n",
       "      <td>...</td>\n",
       "      <td>0.0</td>\n",
       "      <td>0.0</td>\n",
       "      <td>0.0</td>\n",
       "      <td>75.000000</td>\n",
       "      <td>945.249500</td>\n",
       "      <td>27.600713</td>\n",
       "      <td>GUJ</td>\n",
       "      <td>2</td>\n",
       "      <td>15.000000</td>\n",
       "      <td>148.00</td>\n",
       "    </tr>\n",
       "  </tbody>\n",
       "</table>\n",
       "<p>5 rows × 384 columns</p>\n",
       "</div>"
      ],
      "text/plain": [
       "   slno       grp  Round_Centre  FSU_number  Round  Schedule_Number  Sample  \\\n",
       "0     1  4.10E+31             1       41000     68               10       1   \n",
       "1     2  4.10E+31             1       41000     68               10       1   \n",
       "2     3  4.10E+31             1       41000     68               10       1   \n",
       "3     4  4.10E+31             1       41000     68               10       1   \n",
       "4     5  4.10E+31             1       41000     68               10       1   \n",
       "\n",
       "   Sector  state  State_Region  ...  pickle_v  sauce_jam_v  Othrprocessed_v  \\\n",
       "0       2     24           242  ...       0.0          0.0              0.0   \n",
       "1       2     24           242  ...       0.0          0.0              0.0   \n",
       "2       2     24           242  ...       0.0          0.0              0.0   \n",
       "3       2     24           242  ...       0.0          0.0              0.0   \n",
       "4       2     24           242  ...       0.0          0.0              0.0   \n",
       "\n",
       "   Beveragestotal_v  foodtotal_v  foodtotal_q  state_1  Region  \\\n",
       "0          0.000000  1141.492400    30.942394      GUJ       2   \n",
       "1         17.500000  1244.553500    29.286153      GUJ       2   \n",
       "2          0.000000  1050.315400    31.527046      GUJ       2   \n",
       "3         33.333333  1142.591667    27.834607      GUJ       2   \n",
       "4         75.000000   945.249500    27.600713      GUJ       2   \n",
       "\n",
       "   fruits_df_tt_v  fv_tot  \n",
       "0       12.000000  154.18  \n",
       "1      333.000000  484.95  \n",
       "2       35.000000  214.84  \n",
       "3      168.333333  302.30  \n",
       "4       15.000000  148.00  \n",
       "\n",
       "[5 rows x 384 columns]"
      ]
     },
     "execution_count": 4,
     "metadata": {},
     "output_type": "execute_result"
    }
   ],
   "source": [
    "df.head()"
   ]
  },
  {
   "cell_type": "code",
   "execution_count": 5,
   "id": "218143f9",
   "metadata": {},
   "outputs": [],
   "source": [
    "HP = df[df['state_1']==\"HP\"]"
   ]
  },
  {
   "cell_type": "code",
   "execution_count": 6,
   "id": "2d0f7fd5",
   "metadata": {},
   "outputs": [
    {
     "data": {
      "text/plain": [
       "soyabean_q             2041\n",
       "soyabean_v             2041\n",
       "Meals_School           2033\n",
       "Meals_Employer         2012\n",
       "Otherwise_possessed    1987\n",
       "                       ... \n",
       "brinjal_q                 0\n",
       "tamato_q                  0\n",
       "onion_q                   0\n",
       "potato_q                  0\n",
       "fv_tot                    0\n",
       "Length: 384, dtype: int64"
      ]
     },
     "execution_count": 6,
     "metadata": {},
     "output_type": "execute_result"
    }
   ],
   "source": [
    "HP.isnull().sum().sort_values(ascending = False)"
   ]
  },
  {
   "cell_type": "code",
   "execution_count": 7,
   "id": "25eafd23",
   "metadata": {},
   "outputs": [
    {
     "data": {
      "text/plain": [
       "Index(['slno', 'grp', 'Round_Centre', 'FSU_number', 'Round', 'Schedule_Number',\n",
       "       'Sample', 'Sector', 'state', 'State_Region',\n",
       "       ...\n",
       "       'pickle_v', 'sauce_jam_v', 'Othrprocessed_v', 'Beveragestotal_v',\n",
       "       'foodtotal_v', 'foodtotal_q', 'state_1', 'Region', 'fruits_df_tt_v',\n",
       "       'fv_tot'],\n",
       "      dtype='object', length=384)"
      ]
     },
     "execution_count": 7,
     "metadata": {},
     "output_type": "execute_result"
    }
   ],
   "source": [
    " df.columns"
   ]
  },
  {
   "cell_type": "code",
   "execution_count": 8,
   "id": "df511b24",
   "metadata": {},
   "outputs": [],
   "source": [
    "HP_new = HP[['state_1', 'District', 'Sector','Region','State_Region','ricetotal_q','wheattotal_q','moong_q','Milktotal_q','chicken_q','bread_q','foodtotal_q','Beveragestotal_v','Meals_At_Home']]"
   ]
  },
  {
   "cell_type": "code",
   "execution_count": 9,
   "id": "51c32bfe",
   "metadata": {},
   "outputs": [
    {
     "data": {
      "text/plain": [
       "Meals_At_Home       25\n",
       "state_1              0\n",
       "District             0\n",
       "Sector               0\n",
       "Region               0\n",
       "State_Region         0\n",
       "ricetotal_q          0\n",
       "wheattotal_q         0\n",
       "moong_q              0\n",
       "Milktotal_q          0\n",
       "chicken_q            0\n",
       "bread_q              0\n",
       "foodtotal_q          0\n",
       "Beveragestotal_v     0\n",
       "dtype: int64"
      ]
     },
     "execution_count": 9,
     "metadata": {},
     "output_type": "execute_result"
    }
   ],
   "source": [
    "HP_new.isnull().sum().sort_values(ascending = False)"
   ]
  },
  {
   "cell_type": "code",
   "execution_count": 10,
   "id": "2a4a9364",
   "metadata": {},
   "outputs": [],
   "source": [
    "HP_clean = HP_new.copy()"
   ]
  },
  {
   "cell_type": "code",
   "execution_count": 11,
   "id": "6ae40273",
   "metadata": {},
   "outputs": [],
   "source": [
    "HP_clean.loc[:, 'Meals_At_Home'] = HP_clean['Meals_At_Home'].fillna(HP_new['Meals_At_Home'].mean())"
   ]
  },
  {
   "cell_type": "code",
   "execution_count": 12,
   "id": "da8da443",
   "metadata": {},
   "outputs": [
    {
     "data": {
      "text/plain": [
       "state_1             False\n",
       "District            False\n",
       "Sector              False\n",
       "Region              False\n",
       "State_Region        False\n",
       "ricetotal_q         False\n",
       "wheattotal_q        False\n",
       "moong_q             False\n",
       "Milktotal_q         False\n",
       "chicken_q           False\n",
       "bread_q             False\n",
       "foodtotal_q         False\n",
       "Beveragestotal_v    False\n",
       "Meals_At_Home       False\n",
       "dtype: bool"
      ]
     },
     "execution_count": 12,
     "metadata": {},
     "output_type": "execute_result"
    }
   ],
   "source": [
    "HP_clean.isnull().any()"
   ]
  },
  {
   "cell_type": "code",
   "execution_count": 13,
   "id": "c943a85e",
   "metadata": {},
   "outputs": [
    {
     "data": {
      "image/png": "[encoded data removed]",
      "text/plain": [
       "<Figure size 800x600 with 1 Axes>"
      ]
     },
     "metadata": {},
     "output_type": "display_data"
    }
   ],
   "source": [
    "import matplotlib.pyplot as plt\n",
    "# Assuming HP_clean is your DataFrame\n",
    "plt.figure(figsize=(8, 6))\n",
    "plt.boxplot(HP_clean['ricetotal_q'])\n",
    "plt.xlabel('ricetotal_q')\n",
    "plt.ylabel('Values')\n",
    "plt.title('Boxplot of ricetotal_q')\n",
    "plt.show()"
   ]
  },
  {
   "cell_type": "code",
   "execution_count": 14,
   "id": "1bdbb238",
   "metadata": {},
   "outputs": [],
   "source": [
    "rice1 = HP_clean['ricetotal_q'].quantile(0.25)\n",
    "rice2 = HP_clean['ricetotal_q'].quantile(0.75)\n",
    "iqr_rice = rice2-rice1\n",
    "up_limit = rice2 + 1.5*iqr_rice\n",
    "low_limit = rice1 - 1.5*iqr_rice"
   ]
  },
  {
   "cell_type": "code",
   "execution_count": 16,
   "id": "e47a3710",
   "metadata": {},
   "outputs": [],
   "source": [
    "HP_clean=HP_new[(HP_new['ricetotal_q']<=up_limit)&(HP_new['ricetotal_q']>=low_limit)]"
   ]
  },
  {
   "cell_type": "code",
   "execution_count": 18,
   "id": "5dcbebe0",
   "metadata": {},
   "outputs": [
    {
     "data": {
      "text/plain": [
       "{'whiskers': [<matplotlib.lines.Line2D at 0x205dca6e290>,\n",
       "  <matplotlib.lines.Line2D at 0x205dca6f1d0>],\n",
       " 'caps': [<matplotlib.lines.Line2D at 0x205dca6fc50>,\n",
       "  <matplotlib.lines.Line2D at 0x205dca72810>],\n",
       " 'boxes': [<matplotlib.lines.Line2D at 0x205dca6da10>],\n",
       " 'medians': [<matplotlib.lines.Line2D at 0x205dca70550>],\n",
       " 'fliers': [<matplotlib.lines.Line2D at 0x205dca6e2d0>],\n",
       " 'means': []}"
      ]
     },
     "execution_count": 18,
     "metadata": {},
     "output_type": "execute_result"
    },
    {
     "data": {
      "image/png": "[encoded data removed]",
      "text/plain": [
       "<Figure size 640x480 with 1 Axes>"
      ]
     },
     "metadata": {},
     "output_type": "display_data"
    }
   ],
   "source": [
    "plt.boxplot(HP_clean['ricetotal_q'])"
   ]
  },
  {
   "cell_type": "code",
   "execution_count": 19,
   "id": "e9536a40",
   "metadata": {},
   "outputs": [
    {
     "data": {
      "text/plain": [
       "array([11,  8,  9,  7, 10,  6,  1,  5,  4,  2, 12,  3], dtype=int64)"
      ]
     },
     "execution_count": 19,
     "metadata": {},
     "output_type": "execute_result"
    }
   ],
   "source": [
    "HP_clean['District'].unique()"
   ]
  },
  {
   "cell_type": "code",
   "execution_count": 20,
   "id": "f929f67b",
   "metadata": {},
   "outputs": [],
   "source": [
    "# Replace values in the 'Sector' column\n",
    "HP_clean.loc[:,'Sector'] = HP_clean['Sector'].replace([1, 2], ['URBAN', 'RURAL'])"
   ]
  },
  {
   "cell_type": "code",
   "execution_count": 21,
   "id": "351e4b6e",
   "metadata": {},
   "outputs": [
    {
     "data": {
      "text/plain": [
       "Index(['state_1', 'District', 'Sector', 'Region', 'State_Region',\n",
       "       'ricetotal_q', 'wheattotal_q', 'moong_q', 'Milktotal_q', 'chicken_q',\n",
       "       'bread_q', 'foodtotal_q', 'Beveragestotal_v', 'Meals_At_Home'],\n",
       "      dtype='object')"
      ]
     },
     "execution_count": 21,
     "metadata": {},
     "output_type": "execute_result"
    }
   ],
   "source": [
    "HP_clean.columns"
   ]
  },
  {
   "cell_type": "code",
   "execution_count": 23,
   "id": "37fc08ac",
   "metadata": {},
   "outputs": [],
   "source": [
    "HP_clean.loc[:, 'total_consumption'] = HP_clean[['ricetotal_q', 'wheattotal_q', 'moong_q', 'Milktotal_q', 'chicken_q', 'bread_q', 'foodtotal_q', 'Beveragestotal_v']].sum(axis=1)"
   ]
  },
  {
   "cell_type": "code",
   "execution_count": 25,
   "id": "f30417d4",
   "metadata": {},
   "outputs": [
    {
     "data": {
      "text/html": [
       "<div>\n",
       "<style scoped>\n",
       "    .dataframe tbody tr th:only-of-type {\n",
       "        vertical-align: middle;\n",
       "    }\n",
       "\n",
       "    .dataframe tbody tr th {\n",
       "        vertical-align: top;\n",
       "    }\n",
       "\n",
       "    .dataframe thead th {\n",
       "        text-align: right;\n",
       "    }\n",
       "</style>\n",
       "<table border=\"1\" class=\"dataframe\">\n",
       "  <thead>\n",
       "    <tr style=\"text-align: right;\">\n",
       "      <th></th>\n",
       "      <th>state_1</th>\n",
       "      <th>District</th>\n",
       "      <th>Sector</th>\n",
       "      <th>Region</th>\n",
       "      <th>State_Region</th>\n",
       "      <th>ricetotal_q</th>\n",
       "      <th>wheattotal_q</th>\n",
       "      <th>moong_q</th>\n",
       "      <th>Milktotal_q</th>\n",
       "      <th>chicken_q</th>\n",
       "      <th>bread_q</th>\n",
       "      <th>foodtotal_q</th>\n",
       "      <th>Beveragestotal_v</th>\n",
       "      <th>Meals_At_Home</th>\n",
       "      <th>total_consumption</th>\n",
       "    </tr>\n",
       "  </thead>\n",
       "  <tbody>\n",
       "    <tr>\n",
       "      <th>38447</th>\n",
       "      <td>HP</td>\n",
       "      <td>11</td>\n",
       "      <td>RURAL</td>\n",
       "      <td>2</td>\n",
       "      <td>22</td>\n",
       "      <td>6.0</td>\n",
       "      <td>4.0</td>\n",
       "      <td>0.0</td>\n",
       "      <td>0</td>\n",
       "      <td>0.00</td>\n",
       "      <td>0.0</td>\n",
       "      <td>21.930450</td>\n",
       "      <td>50.000</td>\n",
       "      <td>60.0</td>\n",
       "      <td>81.930450</td>\n",
       "    </tr>\n",
       "    <tr>\n",
       "      <th>38448</th>\n",
       "      <td>HP</td>\n",
       "      <td>11</td>\n",
       "      <td>RURAL</td>\n",
       "      <td>2</td>\n",
       "      <td>22</td>\n",
       "      <td>5.0</td>\n",
       "      <td>8.0</td>\n",
       "      <td>1.0</td>\n",
       "      <td>0</td>\n",
       "      <td>0.00</td>\n",
       "      <td>0.4</td>\n",
       "      <td>28.820800</td>\n",
       "      <td>15.025</td>\n",
       "      <td>69.0</td>\n",
       "      <td>58.245800</td>\n",
       "    </tr>\n",
       "    <tr>\n",
       "      <th>38449</th>\n",
       "      <td>HP</td>\n",
       "      <td>11</td>\n",
       "      <td>RURAL</td>\n",
       "      <td>2</td>\n",
       "      <td>22</td>\n",
       "      <td>8.0</td>\n",
       "      <td>5.0</td>\n",
       "      <td>1.0</td>\n",
       "      <td>0</td>\n",
       "      <td>1.00</td>\n",
       "      <td>0.8</td>\n",
       "      <td>50.931400</td>\n",
       "      <td>90.000</td>\n",
       "      <td>85.0</td>\n",
       "      <td>156.731400</td>\n",
       "    </tr>\n",
       "    <tr>\n",
       "      <th>38450</th>\n",
       "      <td>HP</td>\n",
       "      <td>11</td>\n",
       "      <td>RURAL</td>\n",
       "      <td>2</td>\n",
       "      <td>22</td>\n",
       "      <td>5.0</td>\n",
       "      <td>4.0</td>\n",
       "      <td>0.0</td>\n",
       "      <td>0</td>\n",
       "      <td>0.25</td>\n",
       "      <td>0.0</td>\n",
       "      <td>25.350655</td>\n",
       "      <td>0.000</td>\n",
       "      <td>90.0</td>\n",
       "      <td>34.600655</td>\n",
       "    </tr>\n",
       "    <tr>\n",
       "      <th>38451</th>\n",
       "      <td>HP</td>\n",
       "      <td>11</td>\n",
       "      <td>RURAL</td>\n",
       "      <td>2</td>\n",
       "      <td>22</td>\n",
       "      <td>5.0</td>\n",
       "      <td>6.0</td>\n",
       "      <td>0.0</td>\n",
       "      <td>0</td>\n",
       "      <td>0.00</td>\n",
       "      <td>0.0</td>\n",
       "      <td>29.371060</td>\n",
       "      <td>20.000</td>\n",
       "      <td>90.0</td>\n",
       "      <td>60.371060</td>\n",
       "    </tr>\n",
       "  </tbody>\n",
       "</table>\n",
       "</div>"
      ],
      "text/plain": [
       "      state_1  District Sector  Region  State_Region  ricetotal_q  \\\n",
       "38447      HP        11  RURAL       2            22          6.0   \n",
       "38448      HP        11  RURAL       2            22          5.0   \n",
       "38449      HP        11  RURAL       2            22          8.0   \n",
       "38450      HP        11  RURAL       2            22          5.0   \n",
       "38451      HP        11  RURAL       2            22          5.0   \n",
       "\n",
       "       wheattotal_q  moong_q  Milktotal_q  chicken_q  bread_q  foodtotal_q  \\\n",
       "38447           4.0      0.0            0       0.00      0.0    21.930450   \n",
       "38448           8.0      1.0            0       0.00      0.4    28.820800   \n",
       "38449           5.0      1.0            0       1.00      0.8    50.931400   \n",
       "38450           4.0      0.0            0       0.25      0.0    25.350655   \n",
       "38451           6.0      0.0            0       0.00      0.0    29.371060   \n",
       "\n",
       "       Beveragestotal_v  Meals_At_Home  total_consumption  \n",
       "38447            50.000           60.0          81.930450  \n",
       "38448            15.025           69.0          58.245800  \n",
       "38449            90.000           85.0         156.731400  \n",
       "38450             0.000           90.0          34.600655  \n",
       "38451            20.000           90.0          60.371060  "
      ]
     },
     "execution_count": 25,
     "metadata": {},
     "output_type": "execute_result"
    }
   ],
   "source": [
    "HP_clean.head()"
   ]
  },
  {
   "cell_type": "code",
   "execution_count": 26,
   "id": "f693800a",
   "metadata": {},
   "outputs": [
    {
     "data": {
      "text/html": [
       "<div>\n",
       "<style scoped>\n",
       "    .dataframe tbody tr th:only-of-type {\n",
       "        vertical-align: middle;\n",
       "    }\n",
       "\n",
       "    .dataframe tbody tr th {\n",
       "        vertical-align: top;\n",
       "    }\n",
       "\n",
       "    .dataframe thead tr th {\n",
       "        text-align: left;\n",
       "    }\n",
       "\n",
       "    .dataframe thead tr:last-of-type th {\n",
       "        text-align: right;\n",
       "    }\n",
       "</style>\n",
       "<table border=\"1\" class=\"dataframe\">\n",
       "  <thead>\n",
       "    <tr>\n",
       "      <th></th>\n",
       "      <th colspan=\"4\" halign=\"left\">total_consumption</th>\n",
       "    </tr>\n",
       "    <tr>\n",
       "      <th></th>\n",
       "      <th>std</th>\n",
       "      <th>mean</th>\n",
       "      <th>max</th>\n",
       "      <th>min</th>\n",
       "    </tr>\n",
       "    <tr>\n",
       "      <th>Region</th>\n",
       "      <th></th>\n",
       "      <th></th>\n",
       "      <th></th>\n",
       "      <th></th>\n",
       "    </tr>\n",
       "  </thead>\n",
       "  <tbody>\n",
       "    <tr>\n",
       "      <th>1</th>\n",
       "      <td>36.010586</td>\n",
       "      <td>65.454632</td>\n",
       "      <td>334.960925</td>\n",
       "      <td>8.9</td>\n",
       "    </tr>\n",
       "    <tr>\n",
       "      <th>2</th>\n",
       "      <td>39.156418</td>\n",
       "      <td>71.546153</td>\n",
       "      <td>418.104420</td>\n",
       "      <td>0.0</td>\n",
       "    </tr>\n",
       "  </tbody>\n",
       "</table>\n",
       "</div>"
      ],
      "text/plain": [
       "       total_consumption                            \n",
       "                     std       mean         max  min\n",
       "Region                                              \n",
       "1              36.010586  65.454632  334.960925  8.9\n",
       "2              39.156418  71.546153  418.104420  0.0"
      ]
     },
     "execution_count": 26,
     "metadata": {},
     "output_type": "execute_result"
    }
   ],
   "source": [
    "HP_clean.groupby('Region').agg({'total_consumption':['std','mean','max','min']})"
   ]
  },
  {
   "cell_type": "code",
   "execution_count": 27,
   "id": "afb0462c",
   "metadata": {},
   "outputs": [
    {
     "data": {
      "text/html": [
       "<div>\n",
       "<style scoped>\n",
       "    .dataframe tbody tr th:only-of-type {\n",
       "        vertical-align: middle;\n",
       "    }\n",
       "\n",
       "    .dataframe tbody tr th {\n",
       "        vertical-align: top;\n",
       "    }\n",
       "\n",
       "    .dataframe thead tr th {\n",
       "        text-align: left;\n",
       "    }\n",
       "\n",
       "    .dataframe thead tr:last-of-type th {\n",
       "        text-align: right;\n",
       "    }\n",
       "</style>\n",
       "<table border=\"1\" class=\"dataframe\">\n",
       "  <thead>\n",
       "    <tr>\n",
       "      <th></th>\n",
       "      <th colspan=\"4\" halign=\"left\">total_consumption</th>\n",
       "    </tr>\n",
       "    <tr>\n",
       "      <th></th>\n",
       "      <th>std</th>\n",
       "      <th>mean</th>\n",
       "      <th>max</th>\n",
       "      <th>min</th>\n",
       "    </tr>\n",
       "    <tr>\n",
       "      <th>District</th>\n",
       "      <th></th>\n",
       "      <th></th>\n",
       "      <th></th>\n",
       "      <th></th>\n",
       "    </tr>\n",
       "  </thead>\n",
       "  <tbody>\n",
       "    <tr>\n",
       "      <th>1</th>\n",
       "      <td>38.534721</td>\n",
       "      <td>73.856647</td>\n",
       "      <td>338.941060</td>\n",
       "      <td>30.774605</td>\n",
       "    </tr>\n",
       "    <tr>\n",
       "      <th>2</th>\n",
       "      <td>32.002013</td>\n",
       "      <td>65.783050</td>\n",
       "      <td>261.600570</td>\n",
       "      <td>28.422362</td>\n",
       "    </tr>\n",
       "    <tr>\n",
       "      <th>3</th>\n",
       "      <td>23.240801</td>\n",
       "      <td>64.556711</td>\n",
       "      <td>177.735633</td>\n",
       "      <td>36.565119</td>\n",
       "    </tr>\n",
       "    <tr>\n",
       "      <th>4</th>\n",
       "      <td>29.213298</td>\n",
       "      <td>58.559845</td>\n",
       "      <td>280.150445</td>\n",
       "      <td>20.000000</td>\n",
       "    </tr>\n",
       "    <tr>\n",
       "      <th>5</th>\n",
       "      <td>29.947842</td>\n",
       "      <td>61.538989</td>\n",
       "      <td>216.815618</td>\n",
       "      <td>20.760076</td>\n",
       "    </tr>\n",
       "    <tr>\n",
       "      <th>6</th>\n",
       "      <td>52.863351</td>\n",
       "      <td>79.162804</td>\n",
       "      <td>334.960925</td>\n",
       "      <td>8.900000</td>\n",
       "    </tr>\n",
       "    <tr>\n",
       "      <th>7</th>\n",
       "      <td>34.836295</td>\n",
       "      <td>63.210596</td>\n",
       "      <td>242.250420</td>\n",
       "      <td>24.350175</td>\n",
       "    </tr>\n",
       "    <tr>\n",
       "      <th>8</th>\n",
       "      <td>36.929806</td>\n",
       "      <td>69.739637</td>\n",
       "      <td>233.088106</td>\n",
       "      <td>26.415095</td>\n",
       "    </tr>\n",
       "    <tr>\n",
       "      <th>9</th>\n",
       "      <td>47.952621</td>\n",
       "      <td>72.250616</td>\n",
       "      <td>418.104420</td>\n",
       "      <td>0.000000</td>\n",
       "    </tr>\n",
       "    <tr>\n",
       "      <th>10</th>\n",
       "      <td>22.986820</td>\n",
       "      <td>60.867606</td>\n",
       "      <td>151.921595</td>\n",
       "      <td>20.517595</td>\n",
       "    </tr>\n",
       "    <tr>\n",
       "      <th>11</th>\n",
       "      <td>36.912597</td>\n",
       "      <td>74.929460</td>\n",
       "      <td>276.306960</td>\n",
       "      <td>20.000000</td>\n",
       "    </tr>\n",
       "    <tr>\n",
       "      <th>12</th>\n",
       "      <td>57.020530</td>\n",
       "      <td>89.019560</td>\n",
       "      <td>313.045700</td>\n",
       "      <td>28.337612</td>\n",
       "    </tr>\n",
       "  </tbody>\n",
       "</table>\n",
       "</div>"
      ],
      "text/plain": [
       "         total_consumption                                  \n",
       "                       std       mean         max        min\n",
       "District                                                    \n",
       "1                38.534721  73.856647  338.941060  30.774605\n",
       "2                32.002013  65.783050  261.600570  28.422362\n",
       "3                23.240801  64.556711  177.735633  36.565119\n",
       "4                29.213298  58.559845  280.150445  20.000000\n",
       "5                29.947842  61.538989  216.815618  20.760076\n",
       "6                52.863351  79.162804  334.960925   8.900000\n",
       "7                34.836295  63.210596  242.250420  24.350175\n",
       "8                36.929806  69.739637  233.088106  26.415095\n",
       "9                47.952621  72.250616  418.104420   0.000000\n",
       "10               22.986820  60.867606  151.921595  20.517595\n",
       "11               36.912597  74.929460  276.306960  20.000000\n",
       "12               57.020530  89.019560  313.045700  28.337612"
      ]
     },
     "execution_count": 27,
     "metadata": {},
     "output_type": "execute_result"
    }
   ],
   "source": [
    "HP_clean.groupby('District').agg({'total_consumption':['std','mean','max','min']})"
   ]
  },
  {
   "cell_type": "code",
   "execution_count": 28,
   "id": "90a0799c",
   "metadata": {},
   "outputs": [],
   "source": [
    "total_consumption_by_districtcode=HP_clean.groupby('District')['total_consumption'].sum()"
   ]
  },
  {
   "cell_type": "code",
   "execution_count": 29,
   "id": "d3808841",
   "metadata": {},
   "outputs": [
    {
     "data": {
      "text/plain": [
       "District\n",
       "2     22629.369131\n",
       "11    16559.410756\n",
       "5     15692.442149\n",
       "Name: total_consumption, dtype: float64"
      ]
     },
     "execution_count": 29,
     "metadata": {},
     "output_type": "execute_result"
    }
   ],
   "source": [
    "total_consumption_by_districtcode.sort_values(ascending=False).head(3)"
   ]
  },
  {
   "cell_type": "code",
   "execution_count": 31,
   "id": "bf5530d9",
   "metadata": {},
   "outputs": [],
   "source": [
    "HP_clean.loc[:,\"District\"] = HP_clean.loc[:,\"District\"].replace({2: \"kANGRA\", 11: \"SHIMLA\", 5: \"MANDI\"})"
   ]
  },
  {
   "cell_type": "code",
   "execution_count": 32,
   "id": "fedb9a3d",
   "metadata": {},
   "outputs": [],
   "source": [
    "total_consumption_by_districtname=HP_clean.groupby('District')['total_consumption'].sum()"
   ]
  },
  {
   "cell_type": "code",
   "execution_count": 33,
   "id": "9df69c85",
   "metadata": {},
   "outputs": [
    {
     "data": {
      "text/plain": [
       "District\n",
       "kANGRA    22629.369131\n",
       "SHIMLA    16559.410756\n",
       "MANDI     15692.442149\n",
       "Name: total_consumption, dtype: float64"
      ]
     },
     "execution_count": 33,
     "metadata": {},
     "output_type": "execute_result"
    }
   ],
   "source": [
    "total_consumption_by_districtname.sort_values(ascending=False).head(3)"
   ]
  },
  {
   "cell_type": "code",
   "execution_count": 34,
   "id": "59e32bd5",
   "metadata": {},
   "outputs": [],
   "source": [
    "from statsmodels.stats import weightstats as stests"
   ]
  },
  {
   "cell_type": "code",
   "execution_count": 36,
   "id": "be06fddc",
   "metadata": {},
   "outputs": [],
   "source": [
    "rural=HP_clean[HP_clean['Sector']==\"RURAL\"]\n",
    "urban=HP_clean[HP_clean['Sector']==\"URBAN\"]"
   ]
  },
  {
   "cell_type": "code",
   "execution_count": 37,
   "id": "202f00b1",
   "metadata": {},
   "outputs": [
    {
     "data": {
      "text/html": [
       "<div>\n",
       "<style scoped>\n",
       "    .dataframe tbody tr th:only-of-type {\n",
       "        vertical-align: middle;\n",
       "    }\n",
       "\n",
       "    .dataframe tbody tr th {\n",
       "        vertical-align: top;\n",
       "    }\n",
       "\n",
       "    .dataframe thead th {\n",
       "        text-align: right;\n",
       "    }\n",
       "</style>\n",
       "<table border=\"1\" class=\"dataframe\">\n",
       "  <thead>\n",
       "    <tr style=\"text-align: right;\">\n",
       "      <th></th>\n",
       "      <th>state_1</th>\n",
       "      <th>District</th>\n",
       "      <th>Sector</th>\n",
       "      <th>Region</th>\n",
       "      <th>State_Region</th>\n",
       "      <th>ricetotal_q</th>\n",
       "      <th>wheattotal_q</th>\n",
       "      <th>moong_q</th>\n",
       "      <th>Milktotal_q</th>\n",
       "      <th>chicken_q</th>\n",
       "      <th>bread_q</th>\n",
       "      <th>foodtotal_q</th>\n",
       "      <th>Beveragestotal_v</th>\n",
       "      <th>Meals_At_Home</th>\n",
       "      <th>total_consumption</th>\n",
       "    </tr>\n",
       "  </thead>\n",
       "  <tbody>\n",
       "    <tr>\n",
       "      <th>38447</th>\n",
       "      <td>HP</td>\n",
       "      <td>SHIMLA</td>\n",
       "      <td>RURAL</td>\n",
       "      <td>2</td>\n",
       "      <td>22</td>\n",
       "      <td>6.0</td>\n",
       "      <td>4.0</td>\n",
       "      <td>0.0</td>\n",
       "      <td>0</td>\n",
       "      <td>0.00</td>\n",
       "      <td>0.0</td>\n",
       "      <td>21.930450</td>\n",
       "      <td>50.000</td>\n",
       "      <td>60.0</td>\n",
       "      <td>81.930450</td>\n",
       "    </tr>\n",
       "    <tr>\n",
       "      <th>38448</th>\n",
       "      <td>HP</td>\n",
       "      <td>SHIMLA</td>\n",
       "      <td>RURAL</td>\n",
       "      <td>2</td>\n",
       "      <td>22</td>\n",
       "      <td>5.0</td>\n",
       "      <td>8.0</td>\n",
       "      <td>1.0</td>\n",
       "      <td>0</td>\n",
       "      <td>0.00</td>\n",
       "      <td>0.4</td>\n",
       "      <td>28.820800</td>\n",
       "      <td>15.025</td>\n",
       "      <td>69.0</td>\n",
       "      <td>58.245800</td>\n",
       "    </tr>\n",
       "    <tr>\n",
       "      <th>38449</th>\n",
       "      <td>HP</td>\n",
       "      <td>SHIMLA</td>\n",
       "      <td>RURAL</td>\n",
       "      <td>2</td>\n",
       "      <td>22</td>\n",
       "      <td>8.0</td>\n",
       "      <td>5.0</td>\n",
       "      <td>1.0</td>\n",
       "      <td>0</td>\n",
       "      <td>1.00</td>\n",
       "      <td>0.8</td>\n",
       "      <td>50.931400</td>\n",
       "      <td>90.000</td>\n",
       "      <td>85.0</td>\n",
       "      <td>156.731400</td>\n",
       "    </tr>\n",
       "    <tr>\n",
       "      <th>38450</th>\n",
       "      <td>HP</td>\n",
       "      <td>SHIMLA</td>\n",
       "      <td>RURAL</td>\n",
       "      <td>2</td>\n",
       "      <td>22</td>\n",
       "      <td>5.0</td>\n",
       "      <td>4.0</td>\n",
       "      <td>0.0</td>\n",
       "      <td>0</td>\n",
       "      <td>0.25</td>\n",
       "      <td>0.0</td>\n",
       "      <td>25.350655</td>\n",
       "      <td>0.000</td>\n",
       "      <td>90.0</td>\n",
       "      <td>34.600655</td>\n",
       "    </tr>\n",
       "    <tr>\n",
       "      <th>38451</th>\n",
       "      <td>HP</td>\n",
       "      <td>SHIMLA</td>\n",
       "      <td>RURAL</td>\n",
       "      <td>2</td>\n",
       "      <td>22</td>\n",
       "      <td>5.0</td>\n",
       "      <td>6.0</td>\n",
       "      <td>0.0</td>\n",
       "      <td>0</td>\n",
       "      <td>0.00</td>\n",
       "      <td>0.0</td>\n",
       "      <td>29.371060</td>\n",
       "      <td>20.000</td>\n",
       "      <td>90.0</td>\n",
       "      <td>60.371060</td>\n",
       "    </tr>\n",
       "  </tbody>\n",
       "</table>\n",
       "</div>"
      ],
      "text/plain": [
       "      state_1 District Sector  Region  State_Region  ricetotal_q  \\\n",
       "38447      HP   SHIMLA  RURAL       2            22          6.0   \n",
       "38448      HP   SHIMLA  RURAL       2            22          5.0   \n",
       "38449      HP   SHIMLA  RURAL       2            22          8.0   \n",
       "38450      HP   SHIMLA  RURAL       2            22          5.0   \n",
       "38451      HP   SHIMLA  RURAL       2            22          5.0   \n",
       "\n",
       "       wheattotal_q  moong_q  Milktotal_q  chicken_q  bread_q  foodtotal_q  \\\n",
       "38447           4.0      0.0            0       0.00      0.0    21.930450   \n",
       "38448           8.0      1.0            0       0.00      0.4    28.820800   \n",
       "38449           5.0      1.0            0       1.00      0.8    50.931400   \n",
       "38450           4.0      0.0            0       0.25      0.0    25.350655   \n",
       "38451           6.0      0.0            0       0.00      0.0    29.371060   \n",
       "\n",
       "       Beveragestotal_v  Meals_At_Home  total_consumption  \n",
       "38447            50.000           60.0          81.930450  \n",
       "38448            15.025           69.0          58.245800  \n",
       "38449            90.000           85.0         156.731400  \n",
       "38450             0.000           90.0          34.600655  \n",
       "38451            20.000           90.0          60.371060  "
      ]
     },
     "execution_count": 37,
     "metadata": {},
     "output_type": "execute_result"
    }
   ],
   "source": [
    "rural.head()"
   ]
  },
  {
   "cell_type": "code",
   "execution_count": 38,
   "id": "fd968af7",
   "metadata": {},
   "outputs": [
    {
     "data": {
      "text/html": [
       "<div>\n",
       "<style scoped>\n",
       "    .dataframe tbody tr th:only-of-type {\n",
       "        vertical-align: middle;\n",
       "    }\n",
       "\n",
       "    .dataframe tbody tr th {\n",
       "        vertical-align: top;\n",
       "    }\n",
       "\n",
       "    .dataframe thead th {\n",
       "        text-align: right;\n",
       "    }\n",
       "</style>\n",
       "<table border=\"1\" class=\"dataframe\">\n",
       "  <thead>\n",
       "    <tr style=\"text-align: right;\">\n",
       "      <th></th>\n",
       "      <th>state_1</th>\n",
       "      <th>District</th>\n",
       "      <th>Sector</th>\n",
       "      <th>Region</th>\n",
       "      <th>State_Region</th>\n",
       "      <th>ricetotal_q</th>\n",
       "      <th>wheattotal_q</th>\n",
       "      <th>moong_q</th>\n",
       "      <th>Milktotal_q</th>\n",
       "      <th>chicken_q</th>\n",
       "      <th>bread_q</th>\n",
       "      <th>foodtotal_q</th>\n",
       "      <th>Beveragestotal_v</th>\n",
       "      <th>Meals_At_Home</th>\n",
       "      <th>total_consumption</th>\n",
       "    </tr>\n",
       "  </thead>\n",
       "  <tbody>\n",
       "    <tr>\n",
       "      <th>95748</th>\n",
       "      <td>HP</td>\n",
       "      <td>SHIMLA</td>\n",
       "      <td>URBAN</td>\n",
       "      <td>2</td>\n",
       "      <td>22</td>\n",
       "      <td>5.50</td>\n",
       "      <td>6.0</td>\n",
       "      <td>0.50</td>\n",
       "      <td>0</td>\n",
       "      <td>0.0</td>\n",
       "      <td>0.0</td>\n",
       "      <td>37.986150</td>\n",
       "      <td>50.0175</td>\n",
       "      <td>90.0</td>\n",
       "      <td>100.003650</td>\n",
       "    </tr>\n",
       "    <tr>\n",
       "      <th>95749</th>\n",
       "      <td>HP</td>\n",
       "      <td>SHIMLA</td>\n",
       "      <td>URBAN</td>\n",
       "      <td>2</td>\n",
       "      <td>22</td>\n",
       "      <td>4.80</td>\n",
       "      <td>7.2</td>\n",
       "      <td>0.00</td>\n",
       "      <td>0</td>\n",
       "      <td>0.0</td>\n",
       "      <td>0.0</td>\n",
       "      <td>32.144330</td>\n",
       "      <td>34.0090</td>\n",
       "      <td>90.0</td>\n",
       "      <td>78.153330</td>\n",
       "    </tr>\n",
       "    <tr>\n",
       "      <th>95750</th>\n",
       "      <td>HP</td>\n",
       "      <td>SHIMLA</td>\n",
       "      <td>URBAN</td>\n",
       "      <td>2</td>\n",
       "      <td>22</td>\n",
       "      <td>5.00</td>\n",
       "      <td>10.0</td>\n",
       "      <td>0.00</td>\n",
       "      <td>0</td>\n",
       "      <td>0.0</td>\n",
       "      <td>0.0</td>\n",
       "      <td>80.800750</td>\n",
       "      <td>50.0250</td>\n",
       "      <td>90.0</td>\n",
       "      <td>145.825750</td>\n",
       "    </tr>\n",
       "    <tr>\n",
       "      <th>95751</th>\n",
       "      <td>HP</td>\n",
       "      <td>SHIMLA</td>\n",
       "      <td>URBAN</td>\n",
       "      <td>2</td>\n",
       "      <td>22</td>\n",
       "      <td>4.75</td>\n",
       "      <td>5.5</td>\n",
       "      <td>0.00</td>\n",
       "      <td>0</td>\n",
       "      <td>0.0</td>\n",
       "      <td>0.0</td>\n",
       "      <td>24.850615</td>\n",
       "      <td>25.0075</td>\n",
       "      <td>90.0</td>\n",
       "      <td>60.108115</td>\n",
       "    </tr>\n",
       "    <tr>\n",
       "      <th>95752</th>\n",
       "      <td>HP</td>\n",
       "      <td>SHIMLA</td>\n",
       "      <td>URBAN</td>\n",
       "      <td>2</td>\n",
       "      <td>22</td>\n",
       "      <td>4.75</td>\n",
       "      <td>6.0</td>\n",
       "      <td>0.25</td>\n",
       "      <td>0</td>\n",
       "      <td>0.5</td>\n",
       "      <td>0.0</td>\n",
       "      <td>26.163213</td>\n",
       "      <td>22.5075</td>\n",
       "      <td>90.0</td>\n",
       "      <td>60.170713</td>\n",
       "    </tr>\n",
       "  </tbody>\n",
       "</table>\n",
       "</div>"
      ],
      "text/plain": [
       "      state_1 District Sector  Region  State_Region  ricetotal_q  \\\n",
       "95748      HP   SHIMLA  URBAN       2            22         5.50   \n",
       "95749      HP   SHIMLA  URBAN       2            22         4.80   \n",
       "95750      HP   SHIMLA  URBAN       2            22         5.00   \n",
       "95751      HP   SHIMLA  URBAN       2            22         4.75   \n",
       "95752      HP   SHIMLA  URBAN       2            22         4.75   \n",
       "\n",
       "       wheattotal_q  moong_q  Milktotal_q  chicken_q  bread_q  foodtotal_q  \\\n",
       "95748           6.0     0.50            0        0.0      0.0    37.986150   \n",
       "95749           7.2     0.00            0        0.0      0.0    32.144330   \n",
       "95750          10.0     0.00            0        0.0      0.0    80.800750   \n",
       "95751           5.5     0.00            0        0.0      0.0    24.850615   \n",
       "95752           6.0     0.25            0        0.5      0.0    26.163213   \n",
       "\n",
       "       Beveragestotal_v  Meals_At_Home  total_consumption  \n",
       "95748           50.0175           90.0         100.003650  \n",
       "95749           34.0090           90.0          78.153330  \n",
       "95750           50.0250           90.0         145.825750  \n",
       "95751           25.0075           90.0          60.108115  \n",
       "95752           22.5075           90.0          60.170713  "
      ]
     },
     "execution_count": 38,
     "metadata": {},
     "output_type": "execute_result"
    }
   ],
   "source": [
    "urban.head()"
   ]
  },
  {
   "cell_type": "code",
   "execution_count": 39,
   "id": "ccc1d8af",
   "metadata": {},
   "outputs": [],
   "source": [
    "cons_rural=rural['total_consumption']\n",
    "cons_urban=urban['total_consumption']"
   ]
  },
  {
   "cell_type": "code",
   "execution_count": 40,
   "id": "76427173",
   "metadata": {},
   "outputs": [
    {
     "name": "stdout",
     "output_type": "stream",
     "text": [
      "Z-Score: 2.8374570222787328\n",
      "P-Value: 0.004547446846272496\n"
     ]
    }
   ],
   "source": [
    "z_statistic, p_value = stests.ztest(cons_rural, cons_urban)\n",
    "# Print the z-score and p-value\n",
    "print(\"Z-Score:\", z_statistic)\n",
    "print(\"P-Value:\", p_value)"
   ]
  },
  {
   "cell_type": "code",
   "execution_count": null,
   "id": "7854343d",
   "metadata": {},
   "outputs": [],
   "source": []
  }
 ],
 "metadata": {
  "kernelspec": {
   "display_name": "Python 3 (ipykernel)",
   "language": "python",
   "name": "python3"
  },
  "language_info": {
   "codemirror_mode": {
    "name": "ipython",
    "version": 3
   },
   "file_extension": ".py",
   "mimetype": "text/x-python",
   "name": "python",
   "nbconvert_exporter": "python",
   "pygments_lexer": "ipython3",
   "version": "3.11.5"
  }
 },
 "nbformat": 4,
 "nbformat_minor": 5
}
